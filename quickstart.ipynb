{
 "cells": [
  {
   "attachments": {},
   "cell_type": "markdown",
   "metadata": {},
   "source": [
    "# OMF CONNECT data services Developer Quick Start Guide\n",
    "\n"
   ]
  },
  {
   "attachments": {},
   "cell_type": "markdown",
   "metadata": {},
   "source": [
    "### Prerequisites\n",
    "To follow along with this guide you need access to the following in AVEVA Data Hub\n",
    "* Client-Credentials Client Id and Secret\n",
    "* Tenant\n",
    "* Namespace \n",
    "\n",
    "Basic Python and REST knowledge is helpful as this notebook utilizes these to make API calls to AVEVA Data Hub.\n"
   ]
  },
  {
   "attachments": {},
   "cell_type": "markdown",
   "metadata": {},
   "source": [
    "# Overview\n",
    "\n",
    "This guide illustrates an example of creating an OMF connection and configuring it to send data into AVEVA Data Hub and the Sequential Data Store (SDS). \n",
    "\n",
    "As an example we will send data for a drone, including its location, battery, and operating temperature. We cover how to create the OMF connection along with the appropriate OMF types and containers, and finally send data to our OMF endpoint. Once the data is sent to AVEVA Data Hub we will validate the ingress process by reading some data values from SDS.\n",
    "\n",
    "### The quick start is structured as follows:\n",
    "* [OMF Connection Basics](#omf-connection-basics)\n",
    "* [Introduction of the Code](#introduction-of-the-code)\n",
    "* [Configuring OMF Data Flow](#configuring-omf-data-flow)\n",
    "* [Validation](#validation)"
   ]
  },
  {
   "attachments": {},
   "cell_type": "markdown",
   "metadata": {},
   "source": [
    "The following cell reads the application settings that are required in order to execute the notebook. See the [readme](README.md) for further instructions. "
   ]
  },
  {
   "cell_type": "code",
   "execution_count": 1,
   "metadata": {},
   "outputs": [],
   "source": [
    "import json\n",
    "\n",
    "def read_config():\n",
    "    with open('appsettings.json') as c:\n",
    "        config = json.load(c)\n",
    "    return config\n",
    "\n",
    "appsettings = read_config()\n",
    "resource = appsettings['Resource']\n",
    "clientId = appsettings['ClientId']\n",
    "clientSecret = appsettings['ClientSecret']\n",
    "tenantId = appsettings['TenantId']\n",
    "namespaceId = appsettings['NamespaceId']\n",
    "apiversion = appsettings['ApiVersion']\n",
    "OMFConnectionName = appsettings['OMFConnectionName']\n",
    "OMFConnectionDescription = appsettings['OMFConnectionDescription']"
   ]
  },
  {
   "attachments": {},
   "cell_type": "markdown",
   "metadata": {},
   "source": [
    "# OMF Connection Basics\n",
    "An OMF connection is what allows you to post data using a client-credentials client to what is called the OMF endpoint of a namespace. The OMF endpoint is defined for an OMF connection in a namespace and allows users to make POST calls with OMF messages to be proccessed. We will use this to send all of the OMF messages in this guide. This data will then be ingressed to AVEVA Data Hub and the Sequential Data Store.\n",
    "\n",
    "An OMF Connection is made up of one or more Client Credential Clients, a Topic, and a Subscription. Data is sent to a Topic via a Client, where the data is buffered and made available for the Subscription. The Subscription relays data from the Topic to the Sequential Data Store in the namespace that the Subscription resides in. \n",
    "\n",
    "The following diagram illustrates the flow of a namespace in SDS with 2 OMF endpoints receiving data from different clients in AVEVA Data Hub\n",
    "\n",
    "![Connection](images/OMF_FLOW.png)\n",
    "\n",
    "To understand how OMF connections are configured in AVEVA Data Hub it is good to first understand the basics of how client-credentials clients. \n",
    "\n",
    "#### Client Credential Client\n",
    "Client-credentials clients are used for machine-to-machine communication without the presence of a user. These clients are issued an identifier and secret upon creation, which are later used for authentication against AVEVA Data Hub. More than one secret can be created for a client. Because they access resources on AVEVA Data Hub and are not associated to users, these clients can be assigned any of the roles in the tenant. \n",
    "\n",
    "## Creating OMF Connections\n",
    "\n",
    "OMF Connections only need to be created once for an application or system sending data to AVEVA Data Hub and there are two ways to do so, described below.\n",
    "\n",
    "### Creating an OMF connection using the AVEVA Data Hub Portal\n",
    "\n",
    "If the OMF Connection does not need to be created programmatically, the following video shows how you can create the connection in the AVEVA Data Hub Portal, which features a simple UI that will guide you through the process: https://www.youtube.com/watch?v=52lAnkGC1IM. If you choose to create, or have already created, the connection in the portal for this guide, skip the [Creating our OMF Connection section](#creating-our-omf-connection).\n",
    "\n",
    "### Creating an OMF connection programmatically\n",
    "\n",
    "If the entire process needs to be executed programmatically the process is slighty different. We guide you through creating a connection for our example in the [Creating our OMF Connection section](#creating-our-omf-connection).  \n"
   ]
  },
  {
   "attachments": {},
   "cell_type": "markdown",
   "metadata": {},
   "source": [
    "# Introduction of the Code\n",
    "\n",
    "Following is a script that defines the code that will be used in this notebook, along with documentation for the methods.\n",
    "\n",
    "#### getToken\n",
    "This method shows how we can programmatically retrieve a bearer token used for authenticating against AVEVA Data Hub when making API calls. We first get the token endpoint from the publicly available identity endpoint, and then use that endpoint to make a POST call specifying our client id and secret to get a response including our token. This will by default expire after 3600 seconds and will allow us to make API calls carrying the privileges of the client specified. \n",
    "\n",
    "#### createOMFConnection\n",
    "This method creates a new OMF Connection in Aveva Data Hub mapped to the specified ClientIds by making a POST call to the endpoint. A given ClientId may only be mapped to one OmfConnection per namespace.\n",
    "\n",
    "#### checkOMFConnectionState\n",
    "This method verifies the current state of the OMF connection in Aveva Data Hub. This method is used to make sure that the creation of the OMF connection is finished before proceeding with the next steps of the code.\n",
    "\n",
    "#### createType, createContainer, sendData\n",
    "These methods send OMF messages to the OMF endpoint of the specified namespace in order to create types, containers, or post data. Note the headers added to the specific methods; these are required when sending OMF messages to indicate how to process the sent message.\n",
    "\n",
    "#### getSdsType, getSdsStream, getLastValue\n",
    "These methods make API calls to SDS in order to retrieve types, streams, and the last recorded value for a certain stream"
   ]
  },
  {
   "cell_type": "code",
   "execution_count": 2,
   "metadata": {},
   "outputs": [],
   "source": [
    "import json\n",
    "import requests\n",
    "import time\n",
    "\n",
    "def getToken():\n",
    "    # Get OAuth endpoint configuration\n",
    "    endpoint = json.loads(requests.get(\n",
    "        f'{resource}/identity/.well-known/openid-configuration').content)\n",
    "    token_endpoint = endpoint.get('token_endpoint')\n",
    "\n",
    "    tokenInformation = requests.post(\n",
    "        token_endpoint,\n",
    "        data={'client_id': clientId,\n",
    "                'client_secret': clientSecret,\n",
    "                'grant_type': 'client_credentials'})\n",
    "\n",
    "    token = json.loads(tokenInformation.content)\n",
    "\n",
    "    expiration = token.get('expires_in', None)\n",
    "    if expiration is None:\n",
    "        raise Exception(\n",
    "            f'Failed to get token, check client id/secret: {token[\"error\"]}')\n",
    "\n",
    "    expiration = float(expiration) + time.time()\n",
    "    token = token['access_token']\n",
    "    return token\n",
    "\n",
    "def createOMFConnection(OMFConnectionJson):\n",
    "    token = getToken()\n",
    "    headers = {\"Authorization\": f'Bearer {token}', \"Content-Type\": \"application/json\"}\n",
    "    response = requests.post(f'{resource}/api/{apiversion}/Tenants/{tenantId}/Namespaces/{namespaceId}/OmfConnections', \n",
    "                            data=OMFConnectionJson, \n",
    "                            headers=headers)\n",
    "\n",
    "    if response.status_code == 202:\n",
    "        return json.loads(response.text)[\"Id\"]\n",
    "    else:\n",
    "        raise Exception(f'Failed to create OMF Connection with message: {response.text}, status code: {response.status_code}')\n",
    "\n",
    "def checkOMFConnectionState(OMFConnectionIdRead):\n",
    "    token = getToken()\n",
    "    headers = {\"Authorization\": f'Bearer {token}', \"Content-Type\": \"application/json\"}\n",
    "    response = requests.get(f'{resource}/api/{apiversion}/Tenants/{tenantId}/Namespaces/{namespaceId}/OmfConnections/{OMFConnectionIdRead}', \n",
    "                            headers=headers)\n",
    "    return json.loads(response.text)['State']\n",
    "\n",
    "def getSdsType(typeId):\n",
    "    token = getToken()\n",
    "    headers = {\n",
    "        \"Authorization\": f'Bearer {token}', \n",
    "    }\n",
    "\n",
    "    response = requests.get(f'{resource}/api/{apiversion}/Tenants/{tenantId}/Namespaces/{namespaceId}/Types/{typeId}', \n",
    "                            headers=headers)\n",
    "    print(json.loads(response.text))\n",
    "    print()\n",
    "\n",
    "def getSdsStream(streamId):\n",
    "    token = getToken()\n",
    "    headers = {\n",
    "        \"Authorization\": f'Bearer {token}', \n",
    "    }\n",
    "\n",
    "    response = requests.get(f'{resource}/api/{apiversion}/Tenants/{tenantId}/Namespaces/{namespaceId}/Streams/{streamId}', \n",
    "                            headers=headers)\n",
    "    print(json.loads(response.text))\n",
    "    print()\n",
    "\n",
    "def getLastValue(streamId):\n",
    "    token = getToken()\n",
    "    headers = {\n",
    "        \"Authorization\": f'Bearer {token}', \n",
    "    }\n",
    "\n",
    "    response = requests.get(f'{resource}/api/{apiversion}/Tenants/{tenantId}/Namespaces/{namespaceId}/Streams/{streamId}/Data/Last', \n",
    "                            headers=headers)\n",
    "    print(json.loads(response.text))\n",
    "    print()\n",
    "\n",
    "def createType(typeJson):\n",
    "    token = getToken()\n",
    "    headers = {\n",
    "        \"Authorization\": f'Bearer {token}', \n",
    "        \"Content-Type\": \"application/json\",\n",
    "        \"omfversion\": \"1.2\",\n",
    "        \"action\": \"create\",\n",
    "        \"messageformat\": \"json\",\n",
    "        \"messagetype\": \"type\"\n",
    "    }\n",
    "\n",
    "    response = requests.post(f'{resource}/api/{apiversion}/Tenants/{tenantId}/Namespaces/{namespaceId}/omf', \n",
    "                            data=typeJson, \n",
    "                            headers=headers)\n",
    "\n",
    "    if response.status_code == 202:\n",
    "        print(f'Request sent with status code 202, operation-id = ' + json.loads(response.text)[\"Operation-Id\"])\n",
    "    else:\n",
    "        raise Exception(f'Failed to create type with message: {response.text}, status code: {response.status_code}')\n",
    "\n",
    "def createContainer(containerJson):\n",
    "    token = getToken()\n",
    "    headers = {\n",
    "        \"Authorization\": f'Bearer {token}', \n",
    "        \"Content-Type\": \"application/json\",\n",
    "        \"omfversion\": \"1.2\",\n",
    "        \"action\": \"create\",\n",
    "        \"messageformat\": \"json\",\n",
    "        \"messagetype\": \"container\"\n",
    "    }\n",
    "\n",
    "    response = requests.post(f'{resource}/api/{apiversion}/Tenants/{tenantId}/Namespaces/{namespaceId}/omf', \n",
    "                            data=containerJson, \n",
    "                            headers=headers)\n",
    "\n",
    "    if response.status_code == 202:\n",
    "        print(f'Request sent with status code 202, operation-id = ' + json.loads(response.text)[\"Operation-Id\"])\n",
    "    else:\n",
    "        raise Exception(f'Failed to create container with message: {response.text}, status code: {response.status_code}')\n",
    "\n",
    "def sendData(dataJson):\n",
    "    token = getToken()\n",
    "    headers = {\n",
    "        \"Authorization\": f'Bearer {token}', \n",
    "        \"Content-Type\": \"application/json\",\n",
    "        \"omfversion\": \"1.2\",\n",
    "        \"action\": \"create\",\n",
    "        \"messageformat\": \"json\",\n",
    "        \"messagetype\": \"data\"\n",
    "    }\n",
    "\n",
    "    response = requests.post(f'{resource}/api/{apiversion}/Tenants/{tenantId}/Namespaces/{namespaceId}/omf', \n",
    "                            data=dataJson, \n",
    "                            headers=headers)\n",
    "\n",
    "    if response.status_code == 202:\n",
    "        print(f'Request sent with status code 202, operation-id = ' + json.loads(response.text)[\"Operation-Id\"])\n",
    "    else:\n",
    "        raise Exception(f'Failed to send data with message: {response.text}, status code: {response.status_code}')\n",
    "\n",
    "def cleanup():\n",
    "    token = getToken()\n",
    "    headers = {\"Authorization\": f'Bearer {token}'}\n",
    "    print(f'Deleting OMFConnection {OMFConnectionId}')\n",
    "    requests.delete(f'{resource}/api/{apiversion}/Tenants/{tenantId}/Namespaces/{namespaceId}/OmfConnections/{OMFConnectionId}', \n",
    "                    headers=headers)\n",
    "\n",
    "def test_finished():\n",
    "    global finished\n",
    "    assert finished\n",
    "\n",
    "    cleanup()"
   ]
  },
  {
   "attachments": {},
   "cell_type": "markdown",
   "metadata": {},
   "source": [
    "## Creating our OMF Connection\n",
    "\n",
    "Using the methods defined in the code block above, we will create an OMF connection"
   ]
  },
  {
   "cell_type": "code",
   "execution_count": 3,
   "metadata": {},
   "outputs": [
    {
     "name": "stdout",
     "output_type": "stream",
     "text": [
      "Created OMF Connection Id: ebfd2a25-2694-49cb-9d33-f896c18f4370\n"
     ]
    }
   ],
   "source": [
    "# Create the OMF Connection\n",
    "OMFConnection = {\n",
    "    \"Name\": OMFConnectionName,\n",
    "    \"Description\": OMFConnectionDescription,\n",
    "    \"ClientIds\": [\n",
    "        clientId\n",
    "    ],\n",
    "}\n",
    "\n",
    "OMFConnectionId = createOMFConnection(json.dumps(OMFConnection))\n",
    "\n",
    "#query Cds to get the status of the OMF connection creation\n",
    "while checkOMFConnectionState(OMFConnectionId) != 'Active':\n",
    "    print(f'Creating OMF Connection in CONNECT data services')\n",
    "    time.sleep(5)\n",
    "\n",
    "\n",
    "print(f'Created OMF Connection Id: {OMFConnectionId}')\n"
   ]
  },
  {
   "attachments": {},
   "cell_type": "markdown",
   "metadata": {},
   "source": [
    "# Checkpoint\n",
    "At this point in the guide you should have an OMF Connection created in AVEVA Data Hub for the namespace and client Id used in this notebook. If not, please see the [OMF Connection Basics](#omf-connection-basics) section and follow the steps before continuing."
   ]
  },
  {
   "attachments": {},
   "cell_type": "markdown",
   "metadata": {},
   "source": [
    "# Configuring the OMF Data Flow"
   ]
  },
  {
   "attachments": {},
   "cell_type": "markdown",
   "metadata": {},
   "source": [
    "OMF message types fall into three categories: Type, Container, and Data, which are described below. Each message type creates a different type of data and contains keywords that define characteristics of the data. Most of the message types are used to create the structure of the data and give it meaning"
   ]
  },
  {
   "attachments": {},
   "cell_type": "markdown",
   "metadata": {},
   "source": [
    "## OMF Types\n",
    "Types are used within OMF to define the structure of data. Dynamic types are used by containers to create streams of sequentially indexed data. Static types are used by the endpoint to define non-streamed data, such as assets. Enum types are used to create an array name/value pairs to create a limited set of values for a property in a dynamic or static type. The type messages are used to create and delete types, which we configure by setting the *action* header in our call to *create* or *delete*.\n",
    "\n",
    "A type message is interpreted by AVEVA Data Hub as an SdsType in the Sequential Data Store. Because SdsTypes are immutable, update operations are not supported.\n",
    "\n",
    "OMF types best practices:\n",
    "* Reuse types whenever possible, avoid creating one type per stream when not necessary. For example, if you have 5 different containers that send integer data, you should only create 1 type and reuse that for all 5 containers. When OMF types are ingressed to AVEVA Data Hub they are translated into SDS types, and creating a large number of duplicated types could complicate working with your data across AVEVA Data Hub. Types also do not need be specific to OMF applications, you could reuse a type from a different OMF application or one that is already available on AVEVA Data Hub.\n",
    "\n",
    "* All properties within a type should be inter-dependent, where the properties are used together to make sense of the data.  For example, we will be creating a type for drone location, where the properties will be Timestamp, Longitude, Latitude, and Altitude.  Removing or omitting one of these properties would result in the type being incomplete, and unable to store the drone’s location properly. Also, adding a property to this Type, such as the battery measurement, is not advised, because it is not a dependent property, and we may want to report this value at a different frequency. Missing a property at an event causes a default value to be recorded which will either misrepresent or break interpolation of that property around that event key.\n",
    "\n",
    "For more information on types, see https://docs.aveva.com/bundle/omf/page/types/type-messages.html"
   ]
  },
  {
   "attachments": {},
   "cell_type": "markdown",
   "metadata": {},
   "source": [
    "## Creating our OMF Types\n",
    "\n",
    "We will create two OMF types for this guide, one type for sending location data including coordinates and altitude, and a simple type to be shared for temperature and battery percentage data.\n",
    "\n",
    "The following defines our first type\n",
    "```json\n",
    "{\n",
    "    \"id\": \"DroneLocationType\",\n",
    "    \"type\": \"object\",\n",
    "    \"classification\": \"dynamic\",\n",
    "    \"extrapolation\": \"all\",\n",
    "    \"properties\": {\n",
    "        \"Timestamp\": { \"type\": \"string\", \"isindex\": \"true\", \"format\": \"date-time\" },\n",
    "        \"Long\": { \"type\": \"number\", \"format\": \"float32\" },\n",
    "        \"Lat\": { \"type\": \"number\", \"format\": \"float32\" },\n",
    "        \"Alt\": { \"type\": \"number\", \"format\": \"float32\" }\n",
    "    }\n",
    "}\n",
    "```\n",
    "Next we will define a simple time value type that will be shared between the simple data streams\n",
    "```json\n",
    "{\n",
    "    \"id\": \"DroneDataType\",\n",
    "    \"type\": \"object\",\n",
    "    \"classification\": \"dynamic\",\n",
    "    \"extrapolation\": \"all\",\n",
    "    \"properties\": {\n",
    "        \"Timestamp\": { \"type\": \"string\", \"isindex\": \"true\", \"format\": \"date-time\" },\n",
    "        \"Value\": { \"type\": \"number\", \"format\": \"float32\" }\n",
    "    }\n",
    "}\n",
    "```\n",
    "\n",
    "Below we call our createType method to create these types. Note that OMF messages support a JSON array of objects so that we can batch all of our containers to create in one HTTP call."
   ]
  },
  {
   "cell_type": "code",
   "execution_count": 4,
   "metadata": {},
   "outputs": [
    {
     "name": "stdout",
     "output_type": "stream",
     "text": [
      "Request sent with status code 202, operation-id = 6c5b9ba3b781934c9822597d14f1cf1e\n"
     ]
    }
   ],
   "source": [
    "droneTypes = [{\n",
    "    \"id\": \"DroneLocationType\",\n",
    "    \"type\": \"object\",\n",
    "    \"classification\": \"dynamic\",\n",
    "    \"properties\": {\n",
    "        \"Timestamp\": { \"type\": \"string\", \"isindex\": True, \"format\": \"date-time\" },\n",
    "        \"Long\": { \"type\": \"number\", \"format\": \"float32\" },\n",
    "        \"Lat\": { \"type\": \"number\", \"format\": \"float32\" },\n",
    "        \"Alt\": { \"type\": \"number\", \"format\": \"float32\" }\n",
    "    }\n",
    "},\n",
    "{\n",
    "    \"id\": \"DroneDataType\",\n",
    "    \"type\": \"object\",\n",
    "    \"classification\": \"dynamic\",\n",
    "    \"properties\": {\n",
    "        \"Timestamp\": { \"type\": \"string\", \"isindex\": True, \"format\": \"date-time\" },\n",
    "        \"Value\": { \"type\": \"number\", \"format\": \"float32\" }\n",
    "    }\n",
    "}]\n",
    "\n",
    "createType(json.dumps(droneTypes))"
   ]
  },
  {
   "attachments": {},
   "cell_type": "markdown",
   "metadata": {},
   "source": [
    "## OMF Request Responses\n",
    "In the output from preceeding code you should see an operation-id. When posting OMF messages to AVEVA Data Hub, a successful request returns a 202 Accepted response code along with an operation-id. This response indicates that the supplied JSON was accepted as valid and that the request has been submitted for processing. This response is from the OMF API accepting the request body, the actual OMF message is still being processed by AVEVA Data Hub and a successful processing of the message is not guaranteed at this point. \n",
    "\n",
    "If there are any issues with the data flow, contact AVEVA Technical Support with this operation-id. \n",
    "\n",
    "The following diagram illustrates the basic flow of an OMF message request\n",
    "![OMFMessage](images/omfmessage.png)\n"
   ]
  },
  {
   "attachments": {},
   "cell_type": "markdown",
   "metadata": {},
   "source": [
    "## OMF Containers\n",
    "An OMF container message uses an OMF type as a template to create a way to collect and group data events, and the container message is interpreted as an SdsStream in the Sequential Data Store. OMF Containers can be defined for Types whose classification is dynamic, and provides streams of data events. Each Container has a unique ID defined by the user.\n",
    "\n",
    "Immediately after a type has been registered using a type message, containers may be created using that type. Each container represents an instance of the OMF type, meaning that for this example, if we had 100 drones we would create one container for each drone's location, where every container would be of type DroneLocationType.\n",
    "\n",
    "For more information on containers, see https://docs.aveva.com/bundle/omf/page/containers/container-messages.html\n",
    "\n"
   ]
  },
  {
   "attachments": {},
   "cell_type": "markdown",
   "metadata": {},
   "source": [
    "## Creating our OMF Containers\n",
    "\n",
    "The next step in writing OMF data is to create our OMF containers.\n",
    "\n",
    "The following are our OMF container definitions\n",
    "\n",
    "```json\n",
    "{\n",
    "    \"id\": \"DroneLocationContainer\",\n",
    "    \"typeid\": \"DroneLocationType\"\n",
    "}\n",
    "\n",
    "{\n",
    "    \"id\": \"DroneBatteryContainer\",\n",
    "    \"typeid\": \"DroneDataType\"\n",
    "}\n",
    "\n",
    "{\n",
    "    \"id\": \"DroneTemperatureContainer\",\n",
    "    \"typeid\": \"DroneDataType\"\n",
    "}\n",
    "```\n",
    "Note that, as mentioned in the types section, we are using the DroneDataType for both the battery and temperature containers following the best practices for OMF types.\n",
    "\n",
    "We are using very simple containers that simply specify the TypeId and then use default properties.  Please see the OMF Container documentation for a list of all the possible options.\n",
    "\n",
    "Below we call our createContainer method to create these containers, note that OMF messages support a JSON array of objects so that we have the option to batch all of our containers to create in one HTTP call or send one container per call."
   ]
  },
  {
   "cell_type": "code",
   "execution_count": 5,
   "metadata": {},
   "outputs": [
    {
     "name": "stdout",
     "output_type": "stream",
     "text": [
      "Request sent with status code 202, operation-id = 81e964db5ae606fcb1bbdc1c698eb487\n",
      "Request sent with status code 202, operation-id = bbbc257c645c30df48ab059334f6c0f4\n"
     ]
    }
   ],
   "source": [
    "locationAndBatteryContainer = [{\n",
    "    \"id\": \"DroneLocationContainer\",\n",
    "    \"typeid\": \"DroneLocationType\"\n",
    "},\n",
    "{\n",
    "    \"id\": \"DroneBatteryContainer\",\n",
    "    \"typeid\": \"DroneDataType\"\n",
    "}]\n",
    "\n",
    "createContainer(json.dumps(locationAndBatteryContainer))\n",
    "\n",
    "tempContainer = [{\n",
    "    \"id\": \"DroneTemperatureContainer\",\n",
    "    \"typeid\": \"DroneDataType\"\n",
    "}]\n",
    "\n",
    "createContainer(json.dumps(tempContainer))"
   ]
  },
  {
   "attachments": {},
   "cell_type": "markdown",
   "metadata": {},
   "source": [
    "## Sending OMF Data\n",
    "\n",
    "An OMF data message sends actual data events, like time-series data, to be stored. A data message is mapped to generic SDS values in the Sequential Data Store, where every index can have at most one value.\n",
    "\n",
    "As our types and containers are now defined, we will write data to the containers using simple example data based on our types' properties."
   ]
  },
  {
   "cell_type": "code",
   "execution_count": 6,
   "metadata": {},
   "outputs": [
    {
     "name": "stdout",
     "output_type": "stream",
     "text": [
      "Request sent with status code 202, operation-id = b321904856db99407292875189df430a\n"
     ]
    }
   ],
   "source": [
    "data = [{\n",
    "    \"containerid\": \"DroneTemperatureContainer\",\n",
    "    \"values\": [{\n",
    "        \"Timestamp\": \"2021-12-11T22:23:23.430Z\",\n",
    "        \"Value\": \"98.3\"\n",
    "    },\n",
    "    {\n",
    "        \"Timestamp\": \"2021-12-11T22:24:23.430Z\",\n",
    "        \"Value\": \"96.3\"\n",
    "    },\n",
    "    {\n",
    "        \"Timestamp\": \"2021-12-11T22:25:23.430Z\",\n",
    "        \"Value\": \"99.3\"\n",
    "    }]\n",
    "},\n",
    "{\n",
    "    \"containerid\": \"DroneLocationContainer\",\n",
    "    \"values\": [{\n",
    "        \"Timestamp\": \"2021-12-11T22:23:23.430Z\",\n",
    "        \"Long\": \"-77.0364\",\n",
    "        \"Lat\": \"38.8951\",\n",
    "        \"Alt\": \"230\"\n",
    "    },\n",
    "    {\n",
    "        \"Timestamp\": \"2021-12-11T22:24:23.430Z\",\n",
    "        \"Long\": \"-77.0364\",\n",
    "        \"Lat\": \"38.8951\",\n",
    "        \"Alt\": \"230\"\n",
    "    },\n",
    "    {\n",
    "        \"Timestamp\": \"2021-12-11T22:25:23.430Z\",\n",
    "        \"Long\": \"-77.0364\",\n",
    "        \"Lat\": \"38.8951\",\n",
    "        \"Alt\": \"230\"\n",
    "    }]\n",
    "},\n",
    "{\n",
    "    \"containerid\": \"DroneBatteryContainer\",\n",
    "    \"values\": [{\n",
    "        \"Timestamp\": \"2021-12-11T22:23:23.430Z\",\n",
    "        \"Value\": \"24\"\n",
    "    },\n",
    "    {\n",
    "        \"Timestamp\": \"2021-12-11T22:24:23.430Z\",\n",
    "        \"Value\": \"24\"\n",
    "    },\n",
    "    {\n",
    "        \"Timestamp\": \"2021-12-11T22:25:23.430Z\",\n",
    "        \"Value\": \"23\"\n",
    "    }]\n",
    "}]\n",
    "\n",
    "sendData(json.dumps(data))"
   ]
  },
  {
   "attachments": {},
   "cell_type": "markdown",
   "metadata": {},
   "source": [
    "## Overall workflow of developing and running an OMF application\n",
    "\n",
    "To illustrate the workflow or developing and running your OMF application we can divide it into two parts. \n",
    "\n",
    "The first part that is only performed once where we define our data to create types and containers as required, followed by the second part where we continuously write data to our OMF connection using the containers previously created.\n",
    "\n",
    "![Workflow](images/application.png)\n"
   ]
  },
  {
   "attachments": {},
   "cell_type": "markdown",
   "metadata": {},
   "source": [
    "## Validation\n",
    "\n",
    "At this point in the guide we have created and sent\n",
    "* Types defining our data structures\n",
    "* Containers to collect and group data events in streams\n",
    "* Data for our OMF structures\n",
    "\n",
    "To validate that the data messages made it to AVEVA Data Hub and were ingressed properly, we will make a call to the SDS APIs to read the created SdsTypes, SdsStreams, and data values."
   ]
  },
  {
   "cell_type": "code",
   "execution_count": 7,
   "metadata": {},
   "outputs": [
    {
     "name": "stdout",
     "output_type": "stream",
     "text": [
      "DroneLocationType SdsType = \n",
      "{'Id': 'DroneLocationType', 'Name': 'DroneLocationType', 'Description': '', 'SdsTypeCode': 1, 'Properties': [{'Id': 'Timestamp', 'Name': 'Timestamp', 'Description': '', 'IsKey': True, 'SdsType': {'Id': 'DroneLocationType.Timestamp', 'Name': 'DroneLocationType.Timestamp', 'Description': '', 'SdsTypeCode': 16}}, {'Id': 'Long', 'Name': 'Long', 'Description': '', 'SdsType': {'Id': 'DroneLocationType.Long', 'Name': 'DroneLocationType.Long', 'Description': '', 'SdsTypeCode': 13}}, {'Id': 'Lat', 'Name': 'Lat', 'Description': '', 'SdsType': {'Id': 'DroneLocationType.Lat', 'Name': 'DroneLocationType.Lat', 'Description': '', 'SdsTypeCode': 13}}, {'Id': 'Alt', 'Name': 'Alt', 'Description': '', 'SdsType': {'Id': 'DroneLocationType.Alt', 'Name': 'DroneLocationType.Alt', 'Description': '', 'SdsTypeCode': 13}}]}\n",
      "\n",
      "DroneDataType SdsType = \n",
      "{'Id': 'DroneDataType', 'Name': 'DroneDataType', 'Description': '', 'SdsTypeCode': 1, 'Properties': [{'Id': 'Timestamp', 'Name': 'Timestamp', 'Description': '', 'IsKey': True, 'SdsType': {'Id': 'DroneDataType.Timestamp', 'Name': 'DroneDataType.Timestamp', 'Description': '', 'SdsTypeCode': 16}}, {'Id': 'Value', 'Name': 'Value', 'Description': '', 'SdsType': {'Id': 'DroneDataType.Value', 'Name': 'DroneDataType.Value', 'Description': '', 'SdsTypeCode': 13}}]}\n",
      "\n",
      "DroneLocationContainer SdsStream = \n",
      "{'TypeId': 'DroneLocationType', 'Id': 'DroneLocationContainer', 'Name': 'DroneLocationContainer', 'Description': ''}\n",
      "\n",
      "DroneBatteryContainer SdsStream = \n",
      "{'TypeId': 'DroneDataType', 'Id': 'DroneBatteryContainer', 'Name': 'DroneBatteryContainer', 'Description': ''}\n",
      "\n",
      "DroneTemperatureContainer SdsStream = \n",
      "{'TypeId': 'DroneDataType', 'Id': 'DroneTemperatureContainer', 'Name': 'DroneTemperatureContainer', 'Description': ''}\n",
      "\n",
      "DroneLocationContainer Data = \n",
      "{'Timestamp': '2021-12-11T22:25:23.43Z', 'Long': -77.0364, 'Lat': 38.8951, 'Alt': 230}\n",
      "\n",
      "DroneBatteryContainer Data = \n",
      "{'Timestamp': '2021-12-11T22:25:23.43Z', 'Value': 23}\n",
      "\n",
      "DroneTemperatureContainer Data = \n",
      "{'Timestamp': '2021-12-11T22:25:23.43Z', 'Value': 99.3}\n",
      "\n"
     ]
    }
   ],
   "source": [
    "print('DroneLocationType SdsType = ')\n",
    "getSdsType('DroneLocationType')\n",
    "\n",
    "print('DroneDataType SdsType = ')\n",
    "getSdsType('DroneDataType')\n",
    "\n",
    "print('DroneLocationContainer SdsStream = ')\n",
    "getSdsStream('DroneLocationContainer')\n",
    "\n",
    "print('DroneBatteryContainer SdsStream = ')\n",
    "getSdsStream('DroneBatteryContainer')\n",
    "\n",
    "print('DroneTemperatureContainer SdsStream = ')\n",
    "getSdsStream('DroneTemperatureContainer')\n",
    "\n",
    "print('DroneLocationContainer Data = ')\n",
    "getLastValue('DroneLocationContainer')\n",
    "\n",
    "print('DroneBatteryContainer Data = ')\n",
    "getLastValue('DroneBatteryContainer')\n",
    "\n",
    "print('DroneTemperatureContainer Data = ')\n",
    "getLastValue('DroneTemperatureContainer')\n",
    "\n",
    "global finished\n",
    "finished = True"
   ]
  },
  {
   "cell_type": "code",
   "execution_count": 8,
   "metadata": {},
   "outputs": [
    {
     "name": "stdout",
     "output_type": "stream",
     "text": [
      "Deleting OMFConnection ebfd2a25-2694-49cb-9d33-f896c18f4370\n"
     ]
    }
   ],
   "source": [
    "test_finished()"
   ]
  },
  {
   "attachments": {},
   "cell_type": "markdown",
   "metadata": {},
   "source": [
    "#### We have now ingressed data using OMF into AVEVA Data Hub and the Sequential Data Store"
   ]
  }
 ],
 "metadata": {
  "interpreter": {
   "hash": "aee8b7b246df8f9039afb4144a1f6fd8d2ca17a180786b69acc140d282b71a49"
  },
  "kernelspec": {
   "display_name": "Python 3 (ipykernel)",
   "language": "python",
   "name": "python3"
  },
  "language_info": {
   "codemirror_mode": {
    "name": "ipython",
    "version": 3
   },
   "file_extension": ".py",
   "mimetype": "text/x-python",
   "name": "python",
   "nbconvert_exporter": "python",
   "pygments_lexer": "ipython3",
   "version": "3.10.11"
  }
 },
 "nbformat": 4,
 "nbformat_minor": 2
}
